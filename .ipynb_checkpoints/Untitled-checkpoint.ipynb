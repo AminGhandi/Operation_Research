{
 "cells": [
  {
   "cell_type": "code",
   "execution_count": 1,
   "id": "22030f65",
   "metadata": {},
   "outputs": [
    {
     "name": "stdout",
     "output_type": "stream",
     "text": [
      "Stopping search: Swarm best objective change less than 1e-08\n",
      "x = 5.0\n",
      "y = 1.2999999877038593\n"
     ]
    }
   ],
   "source": [
    "import numpy as np\n",
    "from pyswarm import pso\n",
    "\n",
    "def model_obj(x):\n",
    "    pen = 0\n",
    "    x[0] = np.round(x[0],0)\n",
    "    if not -x[0]+2*x[1]*x[0]<=8: pen = np.inf\n",
    "    if not 2*x[0]+x[1]<=14: pen = np.inf\n",
    "    if not 2*x[0]-x[1]<=10: pen = np.inf\n",
    "    return -(x[0]+x[1]*x[0]) + pen\n",
    "\n",
    "def cons(x):\n",
    "    return []\n",
    "\n",
    "lb = [0,0]\n",
    "ub = [10,10]\n",
    "x0 = [0,0]\n",
    "\n",
    "xopt, fopt = pso(model_obj,lb,ub,x0,cons)\n",
    "\n",
    "print('x =', xopt[0])\n",
    "print('y =', xopt[1])"
   ]
  },
  {
   "cell_type": "code",
   "execution_count": null,
   "id": "ca53aa4a",
   "metadata": {},
   "outputs": [],
   "source": []
  }
 ],
 "metadata": {
  "kernelspec": {
   "display_name": "Python 3 (ipykernel)",
   "language": "python",
   "name": "python3"
  },
  "language_info": {
   "codemirror_mode": {
    "name": "ipython",
    "version": 3
   },
   "file_extension": ".py",
   "mimetype": "text/x-python",
   "name": "python",
   "nbconvert_exporter": "python",
   "pygments_lexer": "ipython3",
   "version": "3.9.16"
  }
 },
 "nbformat": 4,
 "nbformat_minor": 5
}
